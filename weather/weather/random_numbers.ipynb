{
 "cells": [
  {
   "cell_type": "code",
   "execution_count": 4,
   "id": "239bf405",
   "metadata": {},
   "outputs": [],
   "source": [
    "# Import the random module.\n",
    "import random"
   ]
  },
  {
   "cell_type": "code",
   "execution_count": 7,
   "id": "7402219b",
   "metadata": {},
   "outputs": [
    {
     "data": {
      "text/plain": [
       "-69"
      ]
     },
     "execution_count": 7,
     "metadata": {},
     "output_type": "execute_result"
    }
   ],
   "source": [
    "random.randint( -90,90)"
   ]
  },
  {
   "cell_type": "code",
   "execution_count": 9,
   "id": "4f58d9ad",
   "metadata": {},
   "outputs": [
    {
     "data": {
      "text/plain": [
       "[-4.588730226948316,\n",
       " -88.27702376639229,\n",
       " 3.412152372320818,\n",
       " -56.83727719200981,\n",
       " 33.35440538494367,\n",
       " -51.815230413369505,\n",
       " -33.31743397977991,\n",
       " -7.705311047787782,\n",
       " 41.96193872189662,\n",
       " -12.689324620233528]"
      ]
     },
     "execution_count": 9,
     "metadata": {},
     "output_type": "execute_result"
    }
   ],
   "source": [
    "x = 1\n",
    "latitudes = []\n",
    "while x < 11:\n",
    "    random_lat = random.randint(-90, 89) + random.random()\n",
    "    latitudes.append(random_lat)\n",
    "    x += 1\n",
    "latitudes    "
   ]
  },
  {
   "cell_type": "code",
   "execution_count": 10,
   "id": "bb92691c",
   "metadata": {},
   "outputs": [],
   "source": [
    "# Import the NumPy module.\n",
    "import numpy as np"
   ]
  },
  {
   "cell_type": "code",
   "execution_count": 11,
   "id": "4320ae1e",
   "metadata": {},
   "outputs": [
    {
     "data": {
      "text/plain": [
       "-33.314199674432686"
      ]
     },
     "execution_count": 11,
     "metadata": {},
     "output_type": "execute_result"
    }
   ],
   "source": [
    "np.random.uniform(low=-90, high=90)"
   ]
  },
  {
   "cell_type": "code",
   "execution_count": 12,
   "id": "71455929",
   "metadata": {},
   "outputs": [
    {
     "data": {
      "text/plain": [
       "array([ 46.4626471 ,  86.37844765,  35.24845583, -21.8356964 ,\n",
       "        16.18614497, -31.68048499, -45.57746803,  17.62765898,\n",
       "       -19.41385369,  64.27110086,  -8.20693191, -60.02179759,\n",
       "        84.75731699, -33.59376044,   5.82346307,  70.01664268,\n",
       "        82.80777408,  65.86167498, -47.13378967,  52.49267036,\n",
       "        29.21835231, -56.51268699, -53.04787409,  11.82442207,\n",
       "       -40.50132539,  41.57534414, -72.87621285,  74.91965585,\n",
       "        -7.38383687,   4.22690191,  74.19519725,  52.05975721,\n",
       "        53.39396815, -67.83740471,  69.97315371,  80.4183332 ,\n",
       "       -42.56278977,  30.50766494,  14.79822617,  -7.81480583,\n",
       "       -47.76864587, -66.92691451,  32.56425975,  10.59897336,\n",
       "       -40.35708409, -49.07106862,  -0.33262949, -77.65093111,\n",
       "       -84.93027723, -23.98951494])"
      ]
     },
     "execution_count": 12,
     "metadata": {},
     "output_type": "execute_result"
    }
   ],
   "source": [
    "np.random.uniform(-90.000, 90.000, size=50)"
   ]
  },
  {
   "cell_type": "code",
   "execution_count": 13,
   "id": "a70016d7",
   "metadata": {},
   "outputs": [],
   "source": [
    "# Import timeit.\n",
    "import timeit"
   ]
  },
  {
   "cell_type": "code",
   "execution_count": 14,
   "id": "18676102",
   "metadata": {},
   "outputs": [
    {
     "name": "stdout",
     "output_type": "stream",
     "text": [
      "12.1 µs ± 105 ns per loop (mean ± std. dev. of 7 runs, 100000 loops each)\n"
     ]
    }
   ],
   "source": [
    "%timeit np.random.uniform(-90.000, 90.000, size=1500)"
   ]
  },
  {
   "cell_type": "code",
   "execution_count": 15,
   "id": "753001e2",
   "metadata": {},
   "outputs": [
    {
     "data": {
      "text/plain": [
       "array([  3.89893399,  49.08635848,  47.44698129, ...,  -6.54356527,\n",
       "       -11.84211396,  -5.31598674])"
      ]
     },
     "execution_count": 15,
     "metadata": {},
     "output_type": "execute_result"
    }
   ],
   "source": [
    "np.random.uniform(-90.000, 90.000, size=1500)"
   ]
  },
  {
   "cell_type": "code",
   "execution_count": 16,
   "id": "184c66c9",
   "metadata": {},
   "outputs": [
    {
     "name": "stdout",
     "output_type": "stream",
     "text": [
      "1.14 ms ± 5.1 µs per loop (mean ± std. dev. of 7 runs, 1000 loops each)\n"
     ]
    }
   ],
   "source": [
    "def latitudes(size):\n",
    "    latitudes = []\n",
    "    x = 0\n",
    "    while x < (size):\n",
    "        random_lat = random.randint(-90, 90) + random.random()\n",
    "        latitudes.append(random_lat)\n",
    "        x += 1\n",
    "    return latitudes\n",
    "# Call the function with 1500.\n",
    "%timeit latitudes(1500)"
   ]
  },
  {
   "cell_type": "code",
   "execution_count": null,
   "id": "1962d9e8",
   "metadata": {},
   "outputs": [],
   "source": []
  }
 ],
 "metadata": {
  "kernelspec": {
   "display_name": "PythonData",
   "language": "python",
   "name": "pythondata"
  },
  "language_info": {
   "codemirror_mode": {
    "name": "ipython",
    "version": 3
   },
   "file_extension": ".py",
   "mimetype": "text/x-python",
   "name": "python",
   "nbconvert_exporter": "python",
   "pygments_lexer": "ipython3",
   "version": "3.8.8"
  }
 },
 "nbformat": 4,
 "nbformat_minor": 5
}
